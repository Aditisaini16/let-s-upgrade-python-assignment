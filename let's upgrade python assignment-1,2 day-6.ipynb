{
 "cells": [
  {
   "cell_type": "markdown",
   "metadata": {},
   "source": [
    "# assignment-1"
   ]
  },
  {
   "cell_type": "code",
   "execution_count": 1,
   "metadata": {},
   "outputs": [],
   "source": [
    "class bankaccount():\n",
    "    def __init__(self,ownername,balance):\n",
    "        self.ownername = ownername\n",
    "        self.balance = balance\n",
    "        \n",
    "        \n",
    "    def deposit(self):\n",
    "        amount = int(input('enter the amount to deposit='))\n",
    "        self.balance = self.balance + amount\n",
    "        print ('your new balance =', self.balance)  \n",
    "    \n",
    "    def withdraw(self):\n",
    "        amount = int(input('enter the amount to withdraw='))\n",
    "        if (self.balance > amount):\n",
    "            self.balance = self.balance - amount\n",
    "            print ('your new balance is =', self.balance)\n",
    "        else:\n",
    "            print('transection not possible')\n",
    "        \n",
    "   \n",
    "    def getdetails(self):\n",
    "        print('ownername-',self.ownername)\n",
    "        print('balance-',self.balance)\n",
    "       "
   ]
  },
  {
   "cell_type": "code",
   "execution_count": 2,
   "metadata": {},
   "outputs": [],
   "source": [
    "new = bankaccount('aditi',2000)"
   ]
  },
  {
   "cell_type": "code",
   "execution_count": 3,
   "metadata": {},
   "outputs": [
    {
     "name": "stdout",
     "output_type": "stream",
     "text": [
      "enter the amount to withdraw=10000\n",
      "transection not possible\n"
     ]
    }
   ],
   "source": [
    "new.withdraw()"
   ]
  },
  {
   "cell_type": "code",
   "execution_count": 4,
   "metadata": {},
   "outputs": [
    {
     "name": "stdout",
     "output_type": "stream",
     "text": [
      "enter the amount to deposit=2000\n",
      "your new balance = 4000\n"
     ]
    }
   ],
   "source": [
    "new.deposit()"
   ]
  },
  {
   "cell_type": "code",
   "execution_count": 5,
   "metadata": {},
   "outputs": [
    {
     "name": "stdout",
     "output_type": "stream",
     "text": [
      "ownername- aditi\n",
      "balance- 4000\n"
     ]
    }
   ],
   "source": [
    "new.getdetails()"
   ]
  },
  {
   "cell_type": "markdown",
   "metadata": {},
   "source": [
    "# assignment-2"
   ]
  },
  {
   "cell_type": "code",
   "execution_count": 6,
   "metadata": {},
   "outputs": [],
   "source": [
    "class cone():\n",
    "    def __init__(self,radius,height):\n",
    "        self.radius = radius\n",
    "        self.height = height\n",
    "      \n",
    "    def volume(self):\n",
    "        r = int(self.radius)\n",
    "        h = int(self.height)\n",
    "        print(3.14 * (r**2) *(h/3))\n",
    "        \n",
    "    def surfacearea(self):\n",
    "        r = int(self.radius)\n",
    "        h = int(self.height)\n",
    "        print ('surface area of base=',(3.14 * (r**2)))\n",
    "        print('surface area of side=',3.14 * r * ((r**2 + h**2)**(1/2)))\n",
    "        \n",
    "    def getdimensions(self):\n",
    "        print('radius=',self.radius)\n",
    "        print('height=',self.height)\n",
    "        "
   ]
  },
  {
   "cell_type": "code",
   "execution_count": 7,
   "metadata": {},
   "outputs": [],
   "source": [
    "new1 = cone(2,4)"
   ]
  },
  {
   "cell_type": "code",
   "execution_count": 8,
   "metadata": {},
   "outputs": [
    {
     "name": "stdout",
     "output_type": "stream",
     "text": [
      "16.746666666666666\n"
     ]
    }
   ],
   "source": [
    "new1.volume()"
   ]
  },
  {
   "cell_type": "code",
   "execution_count": 9,
   "metadata": {},
   "outputs": [
    {
     "name": "stdout",
     "output_type": "stream",
     "text": [
      "surface area of base= 12.56\n",
      "surface area of side= 28.085013797397362\n"
     ]
    }
   ],
   "source": [
    "new1.surfacearea()"
   ]
  },
  {
   "cell_type": "code",
   "execution_count": 10,
   "metadata": {},
   "outputs": [
    {
     "name": "stdout",
     "output_type": "stream",
     "text": [
      "radius= 2\n",
      "height= 4\n"
     ]
    }
   ],
   "source": [
    "new1.getdimensions()"
   ]
  },
  {
   "cell_type": "code",
   "execution_count": null,
   "metadata": {},
   "outputs": [],
   "source": []
  }
 ],
 "metadata": {
  "kernelspec": {
   "display_name": "Python 3",
   "language": "python",
   "name": "python3"
  },
  "language_info": {
   "codemirror_mode": {
    "name": "ipython",
    "version": 3
   },
   "file_extension": ".py",
   "mimetype": "text/x-python",
   "name": "python",
   "nbconvert_exporter": "python",
   "pygments_lexer": "ipython3",
   "version": "3.8.3"
  }
 },
 "nbformat": 4,
 "nbformat_minor": 4
}
