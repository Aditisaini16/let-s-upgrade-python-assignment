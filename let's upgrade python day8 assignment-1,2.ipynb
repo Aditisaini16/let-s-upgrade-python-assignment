{
 "cells": [
  {
   "cell_type": "markdown",
   "metadata": {},
   "source": [
    "# assignment-1"
   ]
  },
  {
   "cell_type": "code",
   "execution_count": 1,
   "metadata": {},
   "outputs": [],
   "source": [
    "def getinput(calculate):\n",
    "    \n",
    "    def wrap_fun():\n",
    "        x=int(input('enter first no.- '))\n",
    "        calculate(x)\n",
    "    return wrap_fun"
   ]
  },
  {
   "cell_type": "code",
   "execution_count": 2,
   "metadata": {},
   "outputs": [],
   "source": [
    "@getinput\n",
    "def fibo(n):\n",
    "    a = 0\n",
    "    b = 1\n",
    "    sum = 0\n",
    "    count = 1\n",
    "    print ('fib series:',end = '')\n",
    "    while (count <= n):\n",
    "        print(sum, end=' ')\n",
    "        count +=1\n",
    "        a=b\n",
    "        b=sum\n",
    "        sum = a+b"
   ]
  },
  {
   "cell_type": "code",
   "execution_count": 3,
   "metadata": {},
   "outputs": [
    {
     "name": "stdout",
     "output_type": "stream",
     "text": [
      "enter first no.- 9\n",
      "fib series:0 1 1 2 3 5 8 13 21 "
     ]
    }
   ],
   "source": [
    "fibo()"
   ]
  },
  {
   "cell_type": "markdown",
   "metadata": {},
   "source": [
    "# assignment-2"
   ]
  },
  {
   "cell_type": "code",
   "execution_count": 7,
   "metadata": {},
   "outputs": [
    {
     "name": "stdout",
     "output_type": "stream",
     "text": [
      "Writing aditisainiiiii.py\n"
     ]
    }
   ],
   "source": [
    "%%writefile aditisainiiiii.py\n",
    "\n",
    "def add(a,b):\n",
    "    print(a+b)"
   ]
  },
  {
   "cell_type": "code",
   "execution_count": 8,
   "metadata": {},
   "outputs": [
    {
     "name": "stdout",
     "output_type": "stream",
     "text": [
      "not writable\n"
     ]
    }
   ],
   "source": [
    "try:\n",
    "    file = open('aditisainiiiii.py','r')\n",
    "    file.write('hey guys!!! how r u ?')\n",
    "    file.close()\n",
    "except Exception as e:\n",
    "    print(e)"
   ]
  },
  {
   "cell_type": "code",
   "execution_count": null,
   "metadata": {},
   "outputs": [],
   "source": []
  }
 ],
 "metadata": {
  "kernelspec": {
   "display_name": "Python 3",
   "language": "python",
   "name": "python3"
  },
  "language_info": {
   "codemirror_mode": {
    "name": "ipython",
    "version": 3
   },
   "file_extension": ".py",
   "mimetype": "text/x-python",
   "name": "python",
   "nbconvert_exporter": "python",
   "pygments_lexer": "ipython3",
   "version": "3.8.3"
  }
 },
 "nbformat": 4,
 "nbformat_minor": 4
}
